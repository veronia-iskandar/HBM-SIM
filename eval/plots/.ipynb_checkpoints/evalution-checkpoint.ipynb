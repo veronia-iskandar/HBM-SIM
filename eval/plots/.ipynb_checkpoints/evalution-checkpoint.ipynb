{
 "cells": [
  {
   "cell_type": "code",
   "execution_count": 1,
   "id": "ca0c213c",
   "metadata": {},
   "outputs": [],
   "source": [
    "import matplotlib.pyplot as plt\n",
    "import matplotlib.ticker as ticker\n",
    "import numpy as np\n",
    "import subprocess # to run simulation\n",
    "import re # grep in string"
   ]
  },
  {
   "cell_type": "code",
   "execution_count": 2,
   "id": "2ba49c8a",
   "metadata": {},
   "outputs": [],
   "source": [
    "\"\"\"de\"\"\"\n",
    "#label_thr = \"Durchsatz\"\n",
    "#label_read = \"lesen\"\n",
    "#label_write = \"schreiben\"\n",
    "#label_combined = \"kombiniert\"\n",
    "\"\"\"en\"\"\"\n",
    "label_thr = \"Throughput\"\n",
    "label_read = \"read\"\n",
    "label_write = \"write\"\n",
    "label_combined = \"combined\""
   ]
  },
  {
   "cell_type": "markdown",
   "id": "0204655e",
   "metadata": {},
   "source": [
    "# PLOTS"
   ]
  },
  {
   "cell_type": "code",
   "execution_count": 3,
   "id": "e9b4b5e0",
   "metadata": {},
   "outputs": [],
   "source": [
    "plt.rcParams['figure.figsize'] = [3, 3]\n",
    "pos = [1, 2, 4, 8, 16]"
   ]
  },
  {
   "cell_type": "code",
   "execution_count": 8,
   "id": "bbf0a5ad",
   "metadata": {},
   "outputs": [],
   "source": [
    "def getThroughput(arg1, arg2, arg3, arg4, arg5):\n",
    "    arg1 = str(arg1) # SCS, CCS, SCRA, CCRA\n",
    "    arg2 = str(arg2) # R, W, RW\n",
    "    arg3 = str(arg3) # burstlegth\n",
    "    arg4 = str(arg4) # transactions per CPU\n",
    "    arg5 = str(arg5) # chunk size\n",
    "    program = \"/home/veronia/Downloads/HBM_sim/build/benchmark\"\n",
    "    stdout = subprocess.run([program, arg1, arg2, arg3, arg4, arg5], check=True, capture_output=True, text=True).stdout\n",
    "    line = re.search(\"Xilinx Total Throughput.*\\n\", stdout).group()\n",
    "    value = re.search(\"[+-]?\\d+\\.\\d+\", line).group()\n",
    "    return float(value)"
   ]
  },
  {
   "cell_type": "code",
   "execution_count": 9,
   "id": "55365327",
   "metadata": {},
   "outputs": [],
   "source": [
    "def executeBenchmark(runs, benchmark, transactionsPerCPU, chunkSize):\n",
    "    runs = int(runs)\n",
    "    benchmark = str(benchmark)\n",
    "    transactionsPerCPU = int(transactionsPerCPU)\n",
    "    chunkSize = int(chunkSize)\n",
    "    \n",
    "    rd = np.zeros(5)\n",
    "    wr = np.zeros(5)\n",
    "    rw = np.zeros(5)\n",
    "    index = 0\n",
    "    for i in [1, 2, 4, 8, 16]:\n",
    "        for j in range(runs):\n",
    "            rd[index] += getThroughput(benchmark, \"R\", i, transactionsPerCPU, chunkSize)\n",
    "        rd[index] /= runs\n",
    "        index = index + 1\n",
    "    print(\"R: \", rd)\n",
    "    index = 0\n",
    "    for i in [1, 2, 4, 8, 16]:\n",
    "        for j in range(runs):\n",
    "            wr[index] += getThroughput(benchmark, \"W\", i, transactionsPerCPU, chunkSize)\n",
    "        wr[index] /= runs\n",
    "        index = index + 1\n",
    "    print(\"W: \", wr)\n",
    "    index = 0\n",
    "    for i in [1, 2, 4, 8, 16]:\n",
    "        for j in range(runs):\n",
    "            rw[index] += getThroughput(benchmark, \"RW\", i, transactionsPerCPU, chunkSize)\n",
    "        rw[index] /= runs\n",
    "        index = index + 1\n",
    "    print(\"RW: \", rw)\n",
    "    return (rd, wr, rw)"
   ]
  },
  {
   "cell_type": "markdown",
   "id": "93993054",
   "metadata": {},
   "source": [
    "## SCS for 1000 transactions per Initiator (32)"
   ]
  },
  {
   "cell_type": "code",
   "execution_count": 10,
   "id": "2358c5cd",
   "metadata": {
    "scrolled": false
   },
   "outputs": [
    {
     "name": "stdout",
     "output_type": "stream",
     "text": [
      "R:  [4.76 9.52 9.55 9.57 9.58]\n",
      "W:  [4.78 9.55 9.57 9.58 9.58]\n",
      "RW:  [ 6.35 12.19 13.02 13.33 13.12]\n"
     ]
    },
    {
     "data": {
      "image/png": "[encoded data removed]",
      "text/plain": [
       "<Figure size 216x216 with 1 Axes>"
      ]
     },
     "metadata": {
      "needs_background": "light"
     },
     "output_type": "display_data"
    },
    {
     "name": "stdout",
     "output_type": "stream",
     "text": [
      "HBM\n",
      "len   1 r 152.3 w 153.0 rw 203.2\n",
      "len   2 r 304.6 w 305.6 rw 390.1\n",
      "len   4 r 305.6 w 306.2 rw 416.6\n",
      "len   8 r 306.2 w 306.6 rw 426.6\n",
      "len  16 r 306.6 w 306.6 rw 419.8\n"
     ]
    }
   ],
   "source": [
    "benchmark = \"SCS\"\n",
    "transactionsPerCPU = 1000\n",
    "chunkSize = 32\n",
    "runs = 1\n",
    "\n",
    "(rd, wr, rw) = executeBenchmark(runs, benchmark, transactionsPerCPU, chunkSize)\n",
    "\n",
    "rd *= 32\n",
    "wr *= 32\n",
    "rw *= 32\n",
    "\n",
    "fig,ax = plt.subplots()\n",
    "ax.set_xscale('log')#, base=2)\n",
    "plt.xticks(pos)\n",
    "ax.xaxis.set_major_formatter(ticker.ScalarFormatter(useOffset=False))\n",
    "\n",
    "ax.plot(pos, rd, \"x-\", label=label_read, linewidth=2)\n",
    "ax.plot(pos, wr, \"x-\", label=label_write, linewidth=2)\n",
    "ax.plot(pos, rw, \"x-\", label=label_combined, linewidth=2)\n",
    "\n",
    "plt.xlabel(\"AXI Len\")\n",
    "plt.ylabel(\"{} [GB/s]\".format(label_thr))\n",
    "#plt.savefig('figures/scs.pdf', bbox_inches='tight')  \n",
    "plt.title(\"HBM\")\n",
    "plt.legend()\n",
    "plt.show()\n",
    "\n",
    "print(\"HBM\")\n",
    "for i in range(5):\n",
    "    print(\"len {:3} r {:4.1f} w {:4.1f} rw {:4.1f}\".format(pos[i], rd[i], wr[i], rw[i]))"
   ]
  },
  {
   "cell_type": "markdown",
   "id": "c8630c36",
   "metadata": {},
   "source": [
    "## CCS for 1000 transactions per Initiator (32)"
   ]
  },
  {
   "cell_type": "code",
   "execution_count": null,
   "id": "92a950c9",
   "metadata": {
    "scrolled": false
   },
   "outputs": [],
   "source": [
    "benchmark = \"CCS\"\n",
    "transactionsPerCPU = 1000\n",
    "chunkSize = 32\n",
    "runs = 1\n",
    "\n",
    "(rd, wr, rw) = executeBenchmark(runs, benchmark, transactionsPerCPU, chunkSize)\n",
    "\n",
    "fig,ax = plt.subplots()\n",
    "ax.set_xscale('log')#, base=2)\n",
    "plt.xticks(pos)\n",
    "ax.xaxis.set_major_formatter(ticker.ScalarFormatter(useOffset=False))\n",
    "\n",
    "ax.plot(pos, rd, \"x-\", label=label_read, linewidth=2)\n",
    "ax.plot(pos, wr, \"x-\", label=label_write, linewidth=2)\n",
    "ax.plot(pos, rw, \"x-\", label=label_combined, linewidth=2)\n",
    "\n",
    "plt.xlabel(\"AXI Len\")\n",
    "plt.ylabel(\"{} [GB/s]\".format(label_thr))\n",
    "#plt.savefig('figures/ccs.pdf', bbox_inches='tight')  \n",
    "plt.title(\"HBM\")\n",
    "plt.legend()\n",
    "plt.show()\n",
    "\n",
    "print(\"HBM\")\n",
    "for i in range(5):\n",
    "    print(\"len {:3} r {:4.1f} w {:4.1f} rw {:4.1f}\".format(pos[i], rd[i], wr[i], rw[i]))"
   ]
  },
  {
   "cell_type": "markdown",
   "id": "3eff8ef2",
   "metadata": {},
   "source": [
    "## SCRA for 1000 transactions per Initiator (32) | 20 runs"
   ]
  },
  {
   "cell_type": "code",
   "execution_count": 8,
   "id": "b5869b01",
   "metadata": {
    "scrolled": false
   },
   "outputs": [
    {
     "name": "stdout",
     "output_type": "stream",
     "text": [
      "R:  [ 6.97  7.06 13.53 14.32 14.23]\n",
      "W:  [ 7.03  7.09 13.38 14.27 14.19]\n",
      "RW:  [ 6.5   6.84 12.49 13.52 13.79]\n"
     ]
    },
    {
     "data": {
      "image/png": "[encoded data removed]",
      "text/plain": [
       "<Figure size 216x216 with 1 Axes>"
      ]
     },
     "metadata": {
      "needs_background": "light"
     },
     "output_type": "display_data"
    },
    {
     "name": "stdout",
     "output_type": "stream",
     "text": [
      "HBM\n",
      "len   1 r 223.0 w 225.0 rw 208.0\n",
      "len   2 r 225.9 w 226.9 rw 218.9\n",
      "len   4 r 433.0 w 428.2 rw 399.7\n",
      "len   8 r 458.2 w 456.6 rw 432.6\n",
      "len  16 r 455.4 w 454.1 rw 441.3\n"
     ]
    }
   ],
   "source": [
    "benchmark = \"SCRA\"\n",
    "transactionsPerCPU = 1000\n",
    "chunkSize = 32\n",
    "runs = 1\n",
    "\n",
    "(rd, wr, rw) = executeBenchmark(runs, benchmark, transactionsPerCPU, chunkSize)\n",
    "\n",
    "#rd = np.array([152.295, 303.545, 304.967, 305.597, 306.032])\n",
    "#wr = np.array([152.605, 292.514, 302.339, 304.743, 305.011])\n",
    "#rw = np.array([150.8455, 222.5435, 270.286,  290.8675, 293.776])\n",
    "\n",
    "rd *= 32\n",
    "wr *= 32\n",
    "rw *= 32\n",
    "\n",
    "fig,ax = plt.subplots()\n",
    "ax.set_xscale('log')#, base=2)\n",
    "plt.xticks(pos)\n",
    "ax.xaxis.set_major_formatter(ticker.ScalarFormatter(useOffset=False))\n",
    "\n",
    "ax.plot(pos, rd, \"x-\", label=label_read, linewidth=2)\n",
    "ax.plot(pos, wr, \"x-\", label=label_write, linewidth=2)\n",
    "ax.plot(pos, rw, \"x-\", label=label_combined, linewidth=2)\n",
    "\n",
    "plt.xlabel(\"AXI Len\")\n",
    "plt.ylabel(\"{} [GB/s]\".format(label_thr))\n",
    "#plt.savefig('figures/scra.pdf', bbox_inches='tight')  \n",
    "plt.title(\"HBM\")\n",
    "plt.legend()\n",
    "plt.show()\n",
    "\n",
    "print(\"HBM\")\n",
    "for i in range(5):\n",
    "    print(\"len {:3} r {:4.1f} w {:4.1f} rw {:4.1f}\".format(pos[i], rd[i], wr[i], rw[i]))"
   ]
  },
  {
   "cell_type": "markdown",
   "id": "6cbd1949",
   "metadata": {},
   "source": [
    "## CCRA for 1000 transactions per Initiator (32) | 20 runs"
   ]
  },
  {
   "cell_type": "code",
   "execution_count": 10,
   "id": "f3f2b812",
   "metadata": {
    "scrolled": false
   },
   "outputs": [
    {
     "name": "stdout",
     "output_type": "stream",
     "text": [
      "R:  [60.21 90.17 87.46 85.08 80.16]\n",
      "W:  [60.53 73.86 82.58 88.91 92.26]\n",
      "RW:  [134.73 144.69 168.57 178.74 184.8 ]\n"
     ]
    },
    {
     "data": {
      "image/png": "[encoded data removed]",
      "text/plain": [
       "<Figure size 216x216 with 1 Axes>"
      ]
     },
     "metadata": {
      "needs_background": "light"
     },
     "output_type": "display_data"
    },
    {
     "name": "stdout",
     "output_type": "stream",
     "text": [
      "HBM\n",
      "len   1 r 60.2 w 60.5 rw 134.7\n",
      "len   2 r 90.2 w 73.9 rw 144.7\n",
      "len   4 r 87.5 w 82.6 rw 168.6\n",
      "len   8 r 85.1 w 88.9 rw 178.7\n",
      "len  16 r 80.2 w 92.3 rw 184.8\n"
     ]
    }
   ],
   "source": [
    "benchmark = \"CCRA\"\n",
    "transactionsPerCPU = 10000\n",
    "chunkSize = 32\n",
    "runs = 1\n",
    "\n",
    "(rd, wr, rw) = executeBenchmark(runs, benchmark, transactionsPerCPU, chunkSize)\n",
    "\n",
    "#rd = np.array([52.423 67.502 73.044 73.172 73.346])\n",
    "#wr = np.array([52.341 69.844 72.931 74.104 75.056])\n",
    "#rw = np.array([110.684 134.979 142.067 146.832 144.958])\n",
    "\n",
    "fig,ax = plt.subplots()\n",
    "ax.set_xscale('log')#, base=2)\n",
    "plt.xticks(pos)\n",
    "ax.xaxis.set_major_formatter(ticker.ScalarFormatter(useOffset=False))\n",
    "\n",
    "ax.plot(pos, rd, \"x-\", label=label_read, linewidth=2)\n",
    "ax.plot(pos, wr, \"x-\", label=label_write, linewidth=2)\n",
    "ax.plot(pos, rw, \"x-\", label=label_combined, linewidth=2)\n",
    "\n",
    "plt.xlabel(\"AXI Len\")\n",
    "plt.ylabel(\"{} [GB/s]\".format(label_thr))\n",
    "#plt.savefig('figures/ccs.pdf', bbox_inches='tight')  \n",
    "plt.title(\"HBM\")\n",
    "plt.legend()\n",
    "plt.show()\n",
    "\n",
    "print(\"HBM\")\n",
    "for i in range(5):\n",
    "    print(\"len {:3} r {:4.1f} w {:4.1f} rw {:4.1f}\".format(pos[i], rd[i], wr[i], rw[i]))"
   ]
  }
 ],
 "metadata": {
  "kernelspec": {
   "display_name": "Python 3 (ipykernel)",
   "language": "python",
   "name": "python3"
  },
  "language_info": {
   "codemirror_mode": {
    "name": "ipython",
    "version": 3
   },
   "file_extension": ".py",
   "mimetype": "text/x-python",
   "name": "python",
   "nbconvert_exporter": "python",
   "pygments_lexer": "ipython3",
   "version": "3.9.7"
  }
 },
 "nbformat": 4,
 "nbformat_minor": 5
}
