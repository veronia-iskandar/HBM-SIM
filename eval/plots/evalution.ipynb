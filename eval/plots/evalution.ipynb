{
 "cells": [
  {
   "cell_type": "code",
   "execution_count": 13,
   "id": "ca0c213c",
   "metadata": {},
   "outputs": [],
   "source": [
    "import matplotlib.pyplot as plt\n",
    "import matplotlib.ticker as ticker\n",
    "import numpy as np\n",
    "import subprocess # to run simulation\n",
    "import re # grep in string"
   ]
  },
  {
   "cell_type": "code",
   "execution_count": 14,
   "id": "2ba49c8a",
   "metadata": {},
   "outputs": [],
   "source": [
    "\"\"\"de\"\"\"\n",
    "#label_thr = \"Durchsatz\"\n",
    "#label_read = \"lesen\"\n",
    "#label_write = \"schreiben\"\n",
    "#label_combined = \"kombiniert\"\n",
    "\"\"\"en\"\"\"\n",
    "label_thr = \"Throughput\"\n",
    "label_read = \"read\"\n",
    "label_write = \"write\"\n",
    "label_combined = \"combined\""
   ]
  },
  {
   "cell_type": "markdown",
   "id": "0204655e",
   "metadata": {},
   "source": [
    "# PLOTS"
   ]
  },
  {
   "cell_type": "code",
   "execution_count": 15,
   "id": "e9b4b5e0",
   "metadata": {},
   "outputs": [],
   "source": [
    "plt.rcParams['figure.figsize'] = [3, 3]\n",
    "pos = [1, 2, 4, 8, 16]"
   ]
  },
  {
   "cell_type": "code",
   "execution_count": 16,
   "id": "bbf0a5ad",
   "metadata": {},
   "outputs": [],
   "source": [
    "def getThroughput(arg1, arg2, arg3, arg4, arg5):\n",
    "    arg1 = str(arg1) # SCS, CCS, SCRA, CCRA\n",
    "    arg2 = str(arg2) # R, W, RW\n",
    "    arg3 = str(arg3) # burstlegth\n",
    "    arg4 = str(arg4) # transactions per CPU\n",
    "    arg5 = str(arg5) # chunk size\n",
    "    program = \"/home/veronia/Downloads/HBM_sim/build/benchmark\"\n",
    "    stdout = subprocess.run([program, arg1, arg2, arg3, arg4, arg5], check=True, capture_output=True, text=True).stdout\n",
    "    line = re.search(\"Xilinx Total Throughput.*\\n\", stdout).group()\n",
    "    value = re.search(\"[+-]?\\d+\\.\\d+\", line).group()\n",
    "    return float(value)"
   ]
  },
  {
   "cell_type": "code",
   "execution_count": 17,
   "id": "55365327",
   "metadata": {},
   "outputs": [],
   "source": [
    "def executeBenchmark(runs, benchmark, transactionsPerCPU, chunkSize):\n",
    "    runs = int(runs)\n",
    "    benchmark = str(benchmark)\n",
    "    transactionsPerCPU = int(transactionsPerCPU)\n",
    "    chunkSize = int(chunkSize)\n",
    "    \n",
    "    rd = np.zeros(5)\n",
    "    wr = np.zeros(5)\n",
    "    rw = np.zeros(5)\n",
    "    index = 0\n",
    "    for i in [1, 2, 4, 8, 16]:\n",
    "        for j in range(runs):\n",
    "            rd[index] += getThroughput(benchmark, \"R\", i, transactionsPerCPU, chunkSize)\n",
    "        rd[index] /= runs\n",
    "        index = index + 1\n",
    "    print(\"R: \", rd)\n",
    "    index = 0\n",
    "    for i in [1, 2, 4, 8, 16]:\n",
    "        for j in range(runs):\n",
    "            wr[index] += getThroughput(benchmark, \"W\", i, transactionsPerCPU, chunkSize)\n",
    "        wr[index] /= runs\n",
    "        index = index + 1\n",
    "    print(\"W: \", wr)\n",
    "    index = 0\n",
    "    for i in [1, 2, 4, 8, 16]:\n",
    "        for j in range(runs):\n",
    "            rw[index] += getThroughput(benchmark, \"RW\", i, transactionsPerCPU, chunkSize)\n",
    "        rw[index] /= runs\n",
    "        index = index + 1\n",
    "    print(\"RW: \", rw)\n",
    "    return (rd, wr, rw)"
   ]
  },
  {
   "cell_type": "markdown",
   "id": "93993054",
   "metadata": {},
   "source": [
    "## SCS for 1000 transactions per Initiator (32)"
   ]
  },
  {
   "cell_type": "code",
   "execution_count": 59,
   "id": "2358c5cd",
   "metadata": {
    "scrolled": false
   },
   "outputs": [
    {
     "name": "stdout",
     "output_type": "stream",
     "text": [
      "R:  [4.69 9.37 9.47 9.53 9.55]\n",
      "W:  [4.7  9.54 9.56 9.57 9.57]\n",
      "RW:  [ 6.2  11.88 12.47 12.1  12.39]\n"
     ]
    },
    {
     "data": {
      "image/png": "[encoded data removed]",
      "text/plain": [
       "<Figure size 216x216 with 1 Axes>"
      ]
     },
     "metadata": {
      "needs_background": "light"
     },
     "output_type": "display_data"
    },
    {
     "name": "stdout",
     "output_type": "stream",
     "text": [
      "HBM\n",
      "len   1 r 150.1 w 150.4 rw 198.4\n",
      "len   2 r 299.8 w 305.3 rw 380.2\n",
      "len   4 r 303.0 w 305.9 rw 399.0\n",
      "len   8 r 305.0 w 306.2 rw 387.2\n",
      "len  16 r 305.6 w 306.2 rw 396.5\n"
     ]
    }
   ],
   "source": [
    "benchmark = \"SCS\"\n",
    "transactionsPerCPU = 1000\n",
    "chunkSize = 32\n",
    "runs = 1\n",
    "\n",
    "(rd, wr, rw) = executeBenchmark(runs, benchmark, transactionsPerCPU, chunkSize)\n",
    "\n",
    "rd *= 32\n",
    "wr *= 32\n",
    "rw *= 32\n",
    "\n",
    "fig,ax = plt.subplots()\n",
    "ax.set_xscale('log')#, base=2)\n",
    "plt.xticks(pos)\n",
    "ax.xaxis.set_major_formatter(ticker.ScalarFormatter(useOffset=False))\n",
    "\n",
    "ax.plot(pos, rd, \"x-\", label=label_read, linewidth=2)\n",
    "ax.plot(pos, wr, \"x-\", label=label_write, linewidth=2)\n",
    "ax.plot(pos, rw, \"x-\", label=label_combined, linewidth=2)\n",
    "\n",
    "plt.xlabel(\"AXI Len\")\n",
    "plt.ylabel(\"{} [GB/s]\".format(label_thr))\n",
    "#plt.savefig('figures/scs.pdf', bbox_inches='tight')  \n",
    "plt.title(\"HBM\")\n",
    "plt.legend()\n",
    "plt.show()\n",
    "\n",
    "print(\"HBM\")\n",
    "for i in range(5):\n",
    "    print(\"len {:3} r {:4.1f} w {:4.1f} rw {:4.1f}\".format(pos[i], rd[i], wr[i], rw[i]))"
   ]
  },
  {
   "cell_type": "markdown",
   "id": "c8630c36",
   "metadata": {},
   "source": [
    "## CCS for 1000 transactions per Initiator (32)"
   ]
  },
  {
   "cell_type": "code",
   "execution_count": 68,
   "id": "92a950c9",
   "metadata": {
    "scrolled": false
   },
   "outputs": [
    {
     "name": "stdout",
     "output_type": "stream",
     "text": [
      "R:  [4.8  9.59 9.59 9.6  9.6 ]\n",
      "W:  [4.8  9.58 9.57 9.6  9.6 ]\n",
      "RW:  [ 5.25  9.58 11.92 12.42 12.49]\n"
     ]
    },
    {
     "data": {
      "image/png": "[encoded data removed]",
      "text/plain": [
       "<Figure size 216x216 with 1 Axes>"
      ]
     },
     "metadata": {
      "needs_background": "light"
     },
     "output_type": "display_data"
    },
    {
     "name": "stdout",
     "output_type": "stream",
     "text": [
      "HBM\n",
      "len   1 r  4.8 w  4.8 rw  5.2\n",
      "len   2 r  9.6 w  9.6 rw  9.6\n",
      "len   4 r  9.6 w  9.6 rw 11.9\n",
      "len   8 r  9.6 w  9.6 rw 12.4\n",
      "len  16 r  9.6 w  9.6 rw 12.5\n"
     ]
    }
   ],
   "source": [
    "benchmark = \"CCS\"\n",
    "transactionsPerCPU = 1000\n",
    "chunkSize = 32\n",
    "runs = 1\n",
    "\n",
    "(rd, wr, rw) = executeBenchmark(runs, benchmark, transactionsPerCPU, chunkSize)\n",
    "\n",
    "fig,ax = plt.subplots()\n",
    "ax.set_xscale('log')#, base=2)\n",
    "plt.xticks(pos)\n",
    "ax.xaxis.set_major_formatter(ticker.ScalarFormatter(useOffset=False))\n",
    "\n",
    "ax.plot(pos, rd, \"x-\", label=label_read, linewidth=2)\n",
    "ax.plot(pos, wr, \"x-\", label=label_write, linewidth=2)\n",
    "ax.plot(pos, rw, \"x-\", label=label_combined, linewidth=2)\n",
    "\n",
    "plt.xlabel(\"AXI Len\")\n",
    "plt.ylabel(\"{} [GB/s]\".format(label_thr))\n",
    "#plt.savefig('figures/ccs.pdf', bbox_inches='tight')  \n",
    "plt.title(\"HBM\")\n",
    "plt.legend()\n",
    "plt.show()\n",
    "\n",
    "print(\"HBM\")\n",
    "for i in range(5):\n",
    "    print(\"len {:3} r {:4.1f} w {:4.1f} rw {:4.1f}\".format(pos[i], rd[i], wr[i], rw[i]))"
   ]
  },
  {
   "cell_type": "markdown",
   "id": "3eff8ef2",
   "metadata": {},
   "source": [
    "## SCRA for 1000 transactions per Initiator (32) | 20 runs"
   ]
  },
  {
   "cell_type": "code",
   "execution_count": 65,
   "id": "b5869b01",
   "metadata": {
    "scrolled": false
   },
   "outputs": [
    {
     "name": "stdout",
     "output_type": "stream",
     "text": [
      "R:  [3.15 6.26 9.43 9.53 9.56]\n",
      "W:  [4.66 7.05 9.49 9.53 9.57]\n",
      "RW:  [ 3.69  6.58 10.42 12.58 13.21]\n"
     ]
    },
    {
     "data": {
      "image/png": "[encoded data removed]",
      "text/plain": [
       "<Figure size 216x216 with 1 Axes>"
      ]
     },
     "metadata": {
      "needs_background": "light"
     },
     "output_type": "display_data"
    },
    {
     "name": "stdout",
     "output_type": "stream",
     "text": [
      "HBM\n",
      "len   1 r 100.8 w 149.1 rw 118.1\n",
      "len   2 r 200.3 w 225.6 rw 210.6\n",
      "len   4 r 301.8 w 303.7 rw 333.4\n",
      "len   8 r 305.0 w 305.0 rw 402.6\n",
      "len  16 r 305.9 w 306.2 rw 422.7\n"
     ]
    }
   ],
   "source": [
    "benchmark = \"SCRA\"\n",
    "transactionsPerCPU = 1000\n",
    "chunkSize = 32\n",
    "runs = 1\n",
    "\n",
    "(rd, wr, rw) = executeBenchmark(runs, benchmark, transactionsPerCPU, chunkSize)\n",
    "\n",
    "#rd = np.array([152.295, 303.545, 304.967, 305.597, 306.032])\n",
    "#wr = np.array([152.605, 292.514, 302.339, 304.743, 305.011])\n",
    "#rw = np.array([150.8455, 222.5435, 270.286,  290.8675, 293.776])\n",
    "\n",
    "rd *= 32\n",
    "wr *= 32\n",
    "rw *= 32\n",
    "\n",
    "fig,ax = plt.subplots()\n",
    "ax.set_xscale('log')#, base=2)\n",
    "plt.xticks(pos)\n",
    "ax.xaxis.set_major_formatter(ticker.ScalarFormatter(useOffset=False))\n",
    "\n",
    "ax.plot(pos, rd, \"x-\", label=label_read, linewidth=2)\n",
    "ax.plot(pos, wr, \"x-\", label=label_write, linewidth=2)\n",
    "ax.plot(pos, rw, \"x-\", label=label_combined, linewidth=2)\n",
    "\n",
    "plt.xlabel(\"AXI Len\")\n",
    "plt.ylabel(\"{} [GB/s]\".format(label_thr))\n",
    "#plt.savefig('figures/scra.pdf', bbox_inches='tight')  \n",
    "plt.title(\"HBM\")\n",
    "plt.legend()\n",
    "plt.show()\n",
    "\n",
    "print(\"HBM\")\n",
    "for i in range(5):\n",
    "    print(\"len {:3} r {:4.1f} w {:4.1f} rw {:4.1f}\".format(pos[i], rd[i], wr[i], rw[i]))"
   ]
  },
  {
   "cell_type": "markdown",
   "id": "6cbd1949",
   "metadata": {},
   "source": [
    "## CCRA for 1000 transactions per Initiator (32) | 20 runs"
   ]
  },
  {
   "cell_type": "code",
   "execution_count": 67,
   "id": "f3f2b812",
   "metadata": {
    "scrolled": false
   },
   "outputs": [
    {
     "name": "stdout",
     "output_type": "stream",
     "text": [
      "R:  [ 3.56  7.78 15.01 29.72 53.2 ]\n",
      "W:  [15.57 30.36 46.62 54.14 55.34]\n",
      "RW:  [  8.2   16.69  34.94  68.35 118.28]\n"
     ]
    },
    {
     "data": {
      "image/png": "[encoded data removed]",
      "text/plain": [
       "<Figure size 216x216 with 1 Axes>"
      ]
     },
     "metadata": {
      "needs_background": "light"
     },
     "output_type": "display_data"
    },
    {
     "name": "stdout",
     "output_type": "stream",
     "text": [
      "HBM\n",
      "len   1 r  3.6 w 15.6 rw  8.2\n",
      "len   2 r  7.8 w 30.4 rw 16.7\n",
      "len   4 r 15.0 w 46.6 rw 34.9\n",
      "len   8 r 29.7 w 54.1 rw 68.3\n",
      "len  16 r 53.2 w 55.3 rw 118.3\n"
     ]
    }
   ],
   "source": [
    "benchmark = \"CCRA\"\n",
    "transactionsPerCPU = 100\n",
    "chunkSize = 32\n",
    "runs = 1\n",
    "\n",
    "(rd, wr, rw) = executeBenchmark(runs, benchmark, transactionsPerCPU, chunkSize)\n",
    "\n",
    "#rd = np.array([52.423 67.502 73.044 73.172 73.346])\n",
    "#wr = np.array([52.341 69.844 72.931 74.104 75.056])\n",
    "#rw = np.array([110.684 134.979 142.067 146.832 144.958])\n",
    "\n",
    "fig,ax = plt.subplots()\n",
    "ax.set_xscale('log')#, base=2)\n",
    "plt.xticks(pos)\n",
    "ax.xaxis.set_major_formatter(ticker.ScalarFormatter(useOffset=False))\n",
    "\n",
    "ax.plot(pos, rd, \"x-\", label=label_read, linewidth=2)\n",
    "ax.plot(pos, wr, \"x-\", label=label_write, linewidth=2)\n",
    "ax.plot(pos, rw, \"x-\", label=label_combined, linewidth=2)\n",
    "\n",
    "plt.xlabel(\"AXI Len\")\n",
    "plt.ylabel(\"{} [GB/s]\".format(label_thr))\n",
    "#plt.savefig('figures/ccs.pdf', bbox_inches='tight')  \n",
    "plt.title(\"HBM\")\n",
    "plt.legend()\n",
    "plt.show()\n",
    "\n",
    "print(\"HBM\")\n",
    "for i in range(5):\n",
    "    print(\"len {:3} r {:4.1f} w {:4.1f} rw {:4.1f}\".format(pos[i], rd[i], wr[i], rw[i]))"
   ]
  },
  {
   "cell_type": "code",
   "execution_count": null,
   "id": "7a68aa3b",
   "metadata": {},
   "outputs": [],
   "source": []
  }
 ],
 "metadata": {
  "kernelspec": {
   "display_name": "Python 3 (ipykernel)",
   "language": "python",
   "name": "python3"
  },
  "language_info": {
   "codemirror_mode": {
    "name": "ipython",
    "version": 3
   },
   "file_extension": ".py",
   "mimetype": "text/x-python",
   "name": "python",
   "nbconvert_exporter": "python",
   "pygments_lexer": "ipython3",
   "version": "3.9.7"
  }
 },
 "nbformat": 4,
 "nbformat_minor": 5
}
