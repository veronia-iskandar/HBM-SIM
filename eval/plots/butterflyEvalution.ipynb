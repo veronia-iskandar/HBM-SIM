{
 "cells": [
  {
   "cell_type": "code",
   "execution_count": 1,
   "id": "ab640322",
   "metadata": {},
   "outputs": [],
   "source": [
    "import matplotlib.pyplot as plt\n",
    "import matplotlib.ticker as ticker\n",
    "import numpy as np\n",
    "import subprocess # to run simulation\n",
    "import re # grep in string"
   ]
  },
  {
   "cell_type": "code",
   "execution_count": 2,
   "id": "06a848ba",
   "metadata": {},
   "outputs": [],
   "source": [
    "\"\"\"de\"\"\"\n",
    "#label_thr = \"Durchsatz\"\n",
    "#label_read = \"lesen\"\n",
    "#label_write = \"schreiben\"\n",
    "#label_combined = \"kombiniert\"\n",
    "\"\"\"en\"\"\"\n",
    "label_thr = \"Throughput\"\n",
    "label_read = \"read\"\n",
    "label_write = \"write\"\n",
    "label_combined = \"combined\""
   ]
  },
  {
   "cell_type": "markdown",
   "id": "20c65d5e",
   "metadata": {},
   "source": [
    "# PLOTS"
   ]
  },
  {
   "cell_type": "code",
   "execution_count": 3,
   "id": "5741bfd0",
   "metadata": {},
   "outputs": [],
   "source": [
    "plt.rcParams['figure.figsize'] = [3, 3]\n",
    "pos = [1, 2, 4, 8, 16]"
   ]
  },
  {
   "cell_type": "code",
   "execution_count": 4,
   "id": "e39c5d33",
   "metadata": {},
   "outputs": [],
   "source": [
    "def getThroughput(arg1, arg2, arg3, arg4, arg5):\n",
    "    arg1 = str(arg1) # SCS, CCS, SCRA, CCRA\n",
    "    arg2 = str(arg2) # R, W, RW\n",
    "    arg3 = str(arg3) # burstlegth\n",
    "    arg4 = str(arg4) # transactions per CPU\n",
    "    arg5 = str(arg5) # chunk size\n",
    "    program = \"/home/khamo/hbm-accelerator/release/butterfly8x8\"\n",
    "    stdout = subprocess.run([program, arg1, arg2, arg3, arg4, arg5], check=True, capture_output=True, text=True).stdout\n",
    "    line = re.search(\"Butterfly Total Throughput.*\\n\", stdout).group()\n",
    "    value = re.search(\"[+-]?\\d+\\.\\d+\", line).group()\n",
    "    return float(value)"
   ]
  },
  {
   "cell_type": "code",
   "execution_count": 5,
   "id": "65232a4e",
   "metadata": {},
   "outputs": [],
   "source": [
    "def executeBenchmark(runs, benchmark, transactionsPerCPU, chunkSize):\n",
    "    runs = int(runs)\n",
    "    benchmark = str(benchmark)\n",
    "    transactionsPerCPU = int(transactionsPerCPU)\n",
    "    chunkSize = int(chunkSize)\n",
    "    \n",
    "    rd = np.zeros(5)\n",
    "    wr = np.zeros(5)\n",
    "    rw = np.zeros(5)\n",
    "    index = 0\n",
    "    for i in [1, 2, 4, 8, 16]:\n",
    "        for j in range(runs):\n",
    "            rd[index] += getThroughput(benchmark, \"R\", i, transactionsPerCPU, chunkSize)\n",
    "        rd[index] /= runs\n",
    "        index = index + 1\n",
    "    print(\"R: \", rd)\n",
    "    index = 0\n",
    "    for i in [1, 2, 4, 8, 16]:\n",
    "        for j in range(runs):\n",
    "            wr[index] += getThroughput(benchmark, \"W\", i, transactionsPerCPU, chunkSize)\n",
    "        wr[index] /= runs\n",
    "        index = index + 1\n",
    "    print(\"W: \", wr)\n",
    "    index = 0\n",
    "    for i in [1, 2, 4, 8, 16]:\n",
    "        for j in range(runs):\n",
    "            rw[index] += getThroughput(benchmark, \"RW\", i, transactionsPerCPU, chunkSize)\n",
    "        rw[index] /= runs\n",
    "        index = index + 1\n",
    "    print(\"RW: \", rw)\n",
    "    return (rd, wr, rw)"
   ]
  },
  {
   "cell_type": "markdown",
   "id": "c408d74f",
   "metadata": {},
   "source": [
    "## SCS for 1000 transactions per Initiator (32)"
   ]
  },
  {
   "cell_type": "code",
   "execution_count": 6,
   "id": "4ed79325",
   "metadata": {
    "scrolled": true
   },
   "outputs": [
    {
     "name": "stdout",
     "output_type": "stream",
     "text": [
      "R:  [4.76 9.5  9.53 9.55 9.56]\n",
      "W:  [4.77 9.52 9.55 9.56 9.56]\n",
      "RW:  [ 6.32 12.06 12.46 12.15 12.24]\n"
     ]
    },
    {
     "data": {
      "image/png": "[encoded data removed]",
      "text/plain": [
       "<Figure size 216x216 with 1 Axes>"
      ]
     },
     "metadata": {
      "needs_background": "light"
     },
     "output_type": "display_data"
    },
    {
     "name": "stdout",
     "output_type": "stream",
     "text": [
      "HBM\n",
      "len   1 r 152.3 w 152.6 rw 202.2\n",
      "len   2 r 304.0 w 304.6 rw 385.9\n",
      "len   4 r 305.0 w 305.6 rw 398.7\n",
      "len   8 r 305.6 w 305.9 rw 388.8\n",
      "len  16 r 305.9 w 305.9 rw 391.7\n"
     ]
    }
   ],
   "source": [
    "benchmark = \"SCS\"\n",
    "transactionsPerCPU = 1000\n",
    "chunkSize = 32\n",
    "runs = 1\n",
    "\n",
    "(rd, wr, rw) = executeBenchmark(runs, benchmark, transactionsPerCPU, chunkSize)\n",
    "\n",
    "rd *= 32\n",
    "wr *= 32\n",
    "rw *= 32\n",
    "\n",
    "fig,ax = plt.subplots()\n",
    "ax.set_xscale('log', base=2)\n",
    "plt.xticks(pos)\n",
    "ax.xaxis.set_major_formatter(ticker.ScalarFormatter(useOffset=False))\n",
    "\n",
    "ax.plot(pos, rd, \"x-\", label=label_read, linewidth=2)\n",
    "ax.plot(pos, wr, \"x-\", label=label_write, linewidth=2)\n",
    "ax.plot(pos, rw, \"x-\", label=label_combined, linewidth=2)\n",
    "\n",
    "plt.xlabel(\"AXI Len\")\n",
    "plt.ylabel(\"{} [GB/s]\".format(label_thr))\n",
    "#plt.savefig('figures/scs.pdf', bbox_inches='tight')  \n",
    "plt.title(\"HBM\")\n",
    "plt.legend()\n",
    "plt.show()\n",
    "\n",
    "print(\"HBM\")\n",
    "for i in range(5):\n",
    "    print(\"len {:3} r {:4.1f} w {:4.1f} rw {:4.1f}\".format(pos[i], rd[i], wr[i], rw[i]))"
   ]
  },
  {
   "cell_type": "markdown",
   "id": "db7ef508",
   "metadata": {},
   "source": [
    "## CCS for 1000 transactions per Initiator (32)"
   ]
  },
  {
   "cell_type": "code",
   "execution_count": 7,
   "id": "9a85f80f",
   "metadata": {
    "scrolled": true
   },
   "outputs": [
    {
     "name": "stdout",
     "output_type": "stream",
     "text": [
      "R:  [4.8 9.6 9.6 9.6 9.6]\n",
      "W:  [4.8  9.57 9.6  9.6  9.6 ]\n",
      "RW:  [ 5.14 11.65 11.29 11.08 11.59]\n"
     ]
    },
    {
     "data": {
      "image/png": "[encoded data removed]",
      "text/plain": [
       "<Figure size 216x216 with 1 Axes>"
      ]
     },
     "metadata": {
      "needs_background": "light"
     },
     "output_type": "display_data"
    },
    {
     "name": "stdout",
     "output_type": "stream",
     "text": [
      "HBM\n",
      "len   1 r  4.8 w  4.8 rw  5.1\n",
      "len   2 r  9.6 w  9.6 rw 11.7\n",
      "len   4 r  9.6 w  9.6 rw 11.3\n",
      "len   8 r  9.6 w  9.6 rw 11.1\n",
      "len  16 r  9.6 w  9.6 rw 11.6\n"
     ]
    }
   ],
   "source": [
    "benchmark = \"CCS\"\n",
    "transactionsPerCPU = 1000\n",
    "chunkSize = 32\n",
    "runs = 1\n",
    "\n",
    "(rd, wr, rw) = executeBenchmark(runs, benchmark, transactionsPerCPU, chunkSize)\n",
    "\n",
    "fig,ax = plt.subplots()\n",
    "ax.set_xscale('log', base=2)\n",
    "plt.xticks(pos)\n",
    "ax.xaxis.set_major_formatter(ticker.ScalarFormatter(useOffset=False))\n",
    "\n",
    "ax.plot(pos, rd, \"x-\", label=label_read, linewidth=2)\n",
    "ax.plot(pos, wr, \"x-\", label=label_write, linewidth=2)\n",
    "ax.plot(pos, rw, \"x-\", label=label_combined, linewidth=2)\n",
    "\n",
    "plt.xlabel(\"AXI Len\")\n",
    "plt.ylabel(\"{} [GB/s]\".format(label_thr))\n",
    "#plt.savefig('figures/ccs.pdf', bbox_inches='tight')  \n",
    "plt.title(\"HBM\")\n",
    "plt.legend()\n",
    "plt.show()\n",
    "\n",
    "print(\"HBM\")\n",
    "for i in range(5):\n",
    "    print(\"len {:3} r {:4.1f} w {:4.1f} rw {:4.1f}\".format(pos[i], rd[i], wr[i], rw[i]))"
   ]
  },
  {
   "cell_type": "markdown",
   "id": "196a41fb",
   "metadata": {},
   "source": [
    "## SCRA for 1000 transactions per Initiator (32) | 20 runs"
   ]
  },
  {
   "cell_type": "code",
   "execution_count": 8,
   "id": "47b17061",
   "metadata": {
    "scrolled": true
   },
   "outputs": [
    {
     "name": "stdout",
     "output_type": "stream",
     "text": [
      "R:  [4.76   9.5005 9.539  9.5505 9.5615]\n",
      "W:  [4.77   9.369  9.5135 9.545  9.561 ]\n",
      "RW:  [ 5.399   8.9765 10.3725 10.5925 10.744 ]\n"
     ]
    },
    {
     "data": {
      "image/png": "[encoded data removed]",
      "text/plain": [
       "<Figure size 216x216 with 1 Axes>"
      ]
     },
     "metadata": {
      "needs_background": "light"
     },
     "output_type": "display_data"
    },
    {
     "name": "stdout",
     "output_type": "stream",
     "text": [
      "HBM\n",
      "len   1 r 152.3 w 152.6 rw 172.8\n",
      "len   2 r 304.0 w 299.8 rw 287.2\n",
      "len   4 r 305.2 w 304.4 rw 331.9\n",
      "len   8 r 305.6 w 305.4 rw 339.0\n",
      "len  16 r 306.0 w 306.0 rw 343.8\n"
     ]
    }
   ],
   "source": [
    "benchmark = \"SCRA\"\n",
    "transactionsPerCPU = 1000\n",
    "chunkSize = 32\n",
    "runs = 20\n",
    "\n",
    "(rd, wr, rw) = executeBenchmark(runs, benchmark, transactionsPerCPU, chunkSize)\n",
    "\n",
    "rd *= 32\n",
    "wr *= 32\n",
    "rw *= 32\n",
    "\n",
    "fig,ax = plt.subplots()\n",
    "ax.set_xscale('log', base=2)\n",
    "plt.xticks(pos)\n",
    "ax.xaxis.set_major_formatter(ticker.ScalarFormatter(useOffset=False))\n",
    "\n",
    "ax.plot(pos, rd, \"x-\", label=label_read, linewidth=2)\n",
    "ax.plot(pos, wr, \"x-\", label=label_write, linewidth=2)\n",
    "ax.plot(pos, rw, \"x-\", label=label_combined, linewidth=2)\n",
    "\n",
    "plt.xlabel(\"AXI Len\")\n",
    "plt.ylabel(\"{} [GB/s]\".format(label_thr))\n",
    "#plt.savefig('figures/scra.pdf', bbox_inches='tight')  \n",
    "plt.title(\"HBM\")\n",
    "plt.legend()\n",
    "plt.show()\n",
    "\n",
    "print(\"HBM\")\n",
    "for i in range(5):\n",
    "    print(\"len {:3} r {:4.1f} w {:4.1f} rw {:4.1f}\".format(pos[i], rd[i], wr[i], rw[i]))"
   ]
  },
  {
   "cell_type": "markdown",
   "id": "742e441b",
   "metadata": {},
   "source": [
    "## CCRA for 1000 transactions per Initiator (32) | 20 runs"
   ]
  },
  {
   "cell_type": "code",
   "execution_count": 9,
   "id": "0f136944",
   "metadata": {
    "scrolled": true
   },
   "outputs": [
    {
     "name": "stdout",
     "output_type": "stream",
     "text": [
      "R:  [142.412 249.372 248.775 251.722 250.122]\n",
      "W:  [142.718 256.622 258.865 259.963 259.709]\n",
      "RW:  [146.028 212.158 249.088 269.406 274.367]\n"
     ]
    },
    {
     "data": {
      "image/png": "[encoded data removed]",
      "text/plain": [
       "<Figure size 216x216 with 1 Axes>"
      ]
     },
     "metadata": {
      "needs_background": "light"
     },
     "output_type": "display_data"
    },
    {
     "name": "stdout",
     "output_type": "stream",
     "text": [
      "HBM\n",
      "len   1 r 142.4 w 142.7 rw 146.0\n",
      "len   2 r 249.4 w 256.6 rw 212.2\n",
      "len   4 r 248.8 w 258.9 rw 249.1\n",
      "len   8 r 251.7 w 260.0 rw 269.4\n",
      "len  16 r 250.1 w 259.7 rw 274.4\n"
     ]
    }
   ],
   "source": [
    "benchmark = \"CCRA\"\n",
    "transactionsPerCPU = 1000\n",
    "chunkSize = 32\n",
    "runs = 10\n",
    "\n",
    "(rd, wr, rw) = executeBenchmark(runs, benchmark, transactionsPerCPU, chunkSize)\n",
    "\n",
    "#rd = np.array([52.423 67.502 73.044 73.172 73.346])\n",
    "#wr = np.array([52.341 69.844 72.931 74.104 75.056])\n",
    "#rw = np.array([110.684 134.979 142.067 146.832 144.958])\n",
    "\n",
    "fig,ax = plt.subplots()\n",
    "ax.set_xscale('log', base=2)\n",
    "plt.xticks(pos)\n",
    "ax.xaxis.set_major_formatter(ticker.ScalarFormatter(useOffset=False))\n",
    "\n",
    "ax.plot(pos, rd, \"x-\", label=label_read, linewidth=2)\n",
    "ax.plot(pos, wr, \"x-\", label=label_write, linewidth=2)\n",
    "ax.plot(pos, rw, \"x-\", label=label_combined, linewidth=2)\n",
    "\n",
    "plt.xlabel(\"AXI Len\")\n",
    "plt.ylabel(\"{} [GB/s]\".format(label_thr))\n",
    "#plt.savefig('figures/ccs.pdf', bbox_inches='tight')  \n",
    "plt.title(\"HBM\")\n",
    "plt.legend()\n",
    "plt.show()\n",
    "\n",
    "print(\"HBM\")\n",
    "for i in range(5):\n",
    "    print(\"len {:3} r {:4.1f} w {:4.1f} rw {:4.1f}\".format(pos[i], rd[i], wr[i], rw[i]))"
   ]
  },
  {
   "cell_type": "code",
   "execution_count": null,
   "id": "068693e0",
   "metadata": {},
   "outputs": [],
   "source": []
  }
 ],
 "metadata": {
  "kernelspec": {
   "display_name": "Python 3 (ipykernel)",
   "language": "python",
   "name": "python3"
  },
  "language_info": {
   "codemirror_mode": {
    "name": "ipython",
    "version": 3
   },
   "file_extension": ".py",
   "mimetype": "text/x-python",
   "name": "python",
   "nbconvert_exporter": "python",
   "pygments_lexer": "ipython3",
   "version": "3.10.5"
  }
 },
 "nbformat": 4,
 "nbformat_minor": 5
}
